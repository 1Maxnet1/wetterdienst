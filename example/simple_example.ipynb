{
 "cells": [
  {
   "cell_type": "markdown",
   "source": [
    "# wetterdienst - A simple example\n",
    "\n",
    "pip install wetterdienst"
   ],
   "metadata": {
    "collapsed": false,
    "pycharm": {
     "name": "#%% md\n"
    }
   }
  },
  {
   "cell_type": "markdown",
   "source": [
    "## Import modules necessary for general functioning"
   ],
   "metadata": {}
  },
  {
   "cell_type": "code",
   "source": [
    "from wetterdienst import metadata_for_dwd_data, collect_dwd_data, get_nearby_stations\n",
    "from wetterdienst import PeriodType, TimeResolution, Parameter\n",
    "\n",
    "import numpy as np\n",
    "%matplotlib inline\n",
    "import matplotlib as mpl\n",
    "import matplotlib.pyplot as plt\n",
    "from matplotlib import cm"
   ],
   "outputs": [],
   "execution_count": 4,
   "metadata": {
    "collapsed": false,
    "outputHidden": false,
    "inputHidden": false
   }
  },
  {
   "cell_type": "markdown",
   "source": [
    "## 1. First check the metadata to inform yourself of available stations\n",
    "(here we pick historical daily precipitation - hdp)"
   ],
   "metadata": {}
  },
  {
   "cell_type": "code",
   "source": [
    "metadata_hdp = metadata_for_dwd_data(\n",
    "    Parameter.PRECIPITATION_MORE, TimeResolution.DAILY, PeriodType.HISTORICAL)\n",
    "print(\"Number of stations with available data: \", metadata_hdp[\"HAS_FILE\"].sum())\n",
    "print(\"Some of the stations:\")\n",
    "metadata_hdp.head()"
   ],
   "outputs": [
    {
     "name": "stdout",
     "output_type": "stream",
     "text": [
      "Number of stations with available data:  5620\n",
      "Some of the stations:\n"
     ]
    },
    {
     "data": {
      "text/plain": "   STATION_ID  FROM_DATE    TO_DATE  STATIONHEIGHT      LAT      LON  \\\n0           1 1912-01-01 1986-06-30          478.0  47.8413   8.8493   \n1           2 1951-01-01 2006-12-31          138.0  50.8066   6.0996   \n2           3 1891-01-01 2011-03-31          202.0  50.7827   6.0941   \n3           4 1951-01-01 1979-10-31          243.0  50.7683   6.1207   \n4           6 1982-11-01 2020-07-01          455.0  48.8361  10.0598   \n\n           STATIONNAME                STATE  HAS_FILE  \n0                 Aach    Baden-Württemberg      True  \n1  Aachen (Kläranlage)  Nordrhein-Westfalen      True  \n2               Aachen  Nordrhein-Westfalen      True  \n3         Aachen-Brand  Nordrhein-Westfalen      True  \n4   Aalen-Unterrombach    Baden-Württemberg      True  ",
      "text/html": "<div>\n<style scoped>\n    .dataframe tbody tr th:only-of-type {\n        vertical-align: middle;\n    }\n\n    .dataframe tbody tr th {\n        vertical-align: top;\n    }\n\n    .dataframe thead th {\n        text-align: right;\n    }\n</style>\n<table border=\"1\" class=\"dataframe\">\n  <thead>\n    <tr style=\"text-align: right;\">\n      <th></th>\n      <th>STATION_ID</th>\n      <th>FROM_DATE</th>\n      <th>TO_DATE</th>\n      <th>STATIONHEIGHT</th>\n      <th>LAT</th>\n      <th>LON</th>\n      <th>STATIONNAME</th>\n      <th>STATE</th>\n      <th>HAS_FILE</th>\n    </tr>\n  </thead>\n  <tbody>\n    <tr>\n      <th>0</th>\n      <td>1</td>\n      <td>1912-01-01</td>\n      <td>1986-06-30</td>\n      <td>478.0</td>\n      <td>47.8413</td>\n      <td>8.8493</td>\n      <td>Aach</td>\n      <td>Baden-Württemberg</td>\n      <td>True</td>\n    </tr>\n    <tr>\n      <th>1</th>\n      <td>2</td>\n      <td>1951-01-01</td>\n      <td>2006-12-31</td>\n      <td>138.0</td>\n      <td>50.8066</td>\n      <td>6.0996</td>\n      <td>Aachen (Kläranlage)</td>\n      <td>Nordrhein-Westfalen</td>\n      <td>True</td>\n    </tr>\n    <tr>\n      <th>2</th>\n      <td>3</td>\n      <td>1891-01-01</td>\n      <td>2011-03-31</td>\n      <td>202.0</td>\n      <td>50.7827</td>\n      <td>6.0941</td>\n      <td>Aachen</td>\n      <td>Nordrhein-Westfalen</td>\n      <td>True</td>\n    </tr>\n    <tr>\n      <th>3</th>\n      <td>4</td>\n      <td>1951-01-01</td>\n      <td>1979-10-31</td>\n      <td>243.0</td>\n      <td>50.7683</td>\n      <td>6.1207</td>\n      <td>Aachen-Brand</td>\n      <td>Nordrhein-Westfalen</td>\n      <td>True</td>\n    </tr>\n    <tr>\n      <th>4</th>\n      <td>6</td>\n      <td>1982-11-01</td>\n      <td>2020-07-01</td>\n      <td>455.0</td>\n      <td>48.8361</td>\n      <td>10.0598</td>\n      <td>Aalen-Unterrombach</td>\n      <td>Baden-Württemberg</td>\n      <td>True</td>\n    </tr>\n  </tbody>\n</table>\n</div>"
     },
     "execution_count": 2,
     "metadata": {},
     "output_type": "execute_result"
    }
   ],
   "execution_count": 2,
   "metadata": {
    "collapsed": false,
    "outputHidden": false,
    "inputHidden": false
   }
  },
  {
   "cell_type": "markdown",
   "source": [
    "The metadata includes an id, the range of the measurements, the position\n",
    "(including height) as well as place and state of it and if it has a file. With the\n",
    "following plot we want to show a map of those stations:"
   ],
   "metadata": {}
  },
  {
   "cell_type": "code",
   "source": [
    "cmap = cm.get_cmap('viridis')\n",
    "bounds = metadata_hdp.STATIONHEIGHT.quantile([0, 0.25, 0.5, 0.75, 1]).values\n",
    "norm = mpl.colors.BoundaryNorm(bounds, cmap.N)\n",
    "\n",
    "fig, ax = plt.subplots(figsize=(10, 10))\n",
    "plot = metadata_hdp.plot.scatter(\n",
    "    x=\"LON\", y=\"LAT\", c=\"STATIONHEIGHT\", cmap=cmap, norm=norm, ax=ax)\n",
    "plot.set_title(\"Map of daily precipitation stations in Germany\\n\"\n",
    "               \"Color refers to height of station\")\n",
    "plt.show()"
   ],
   "outputs": [
    {
     "ename": "NameError",
     "evalue": "name 'cm' is not defined",
     "output_type": "error",
     "traceback": [
      "\u001B[1;31m---------------------------------------------------------------------------\u001B[0m",
      "\u001B[1;31mNameError\u001B[0m                                 Traceback (most recent call last)",
      "\u001B[1;32m<ipython-input-2-4be6c7007a62>\u001B[0m in \u001B[0;36m<module>\u001B[1;34m\u001B[0m\n\u001B[1;32m----> 1\u001B[1;33m \u001B[0mcmap\u001B[0m \u001B[1;33m=\u001B[0m \u001B[0mcm\u001B[0m\u001B[1;33m.\u001B[0m\u001B[0mget_cmap\u001B[0m\u001B[1;33m(\u001B[0m\u001B[1;34m'viridis'\u001B[0m\u001B[1;33m)\u001B[0m\u001B[1;33m\u001B[0m\u001B[1;33m\u001B[0m\u001B[0m\n\u001B[0m\u001B[0;32m      2\u001B[0m \u001B[0mbounds\u001B[0m \u001B[1;33m=\u001B[0m \u001B[0mmetadata_hdp\u001B[0m\u001B[1;33m.\u001B[0m\u001B[0mSTATIONHEIGHT\u001B[0m\u001B[1;33m.\u001B[0m\u001B[0mquantile\u001B[0m\u001B[1;33m(\u001B[0m\u001B[1;33m[\u001B[0m\u001B[1;36m0\u001B[0m\u001B[1;33m,\u001B[0m \u001B[1;36m0.25\u001B[0m\u001B[1;33m,\u001B[0m \u001B[1;36m0.5\u001B[0m\u001B[1;33m,\u001B[0m \u001B[1;36m0.75\u001B[0m\u001B[1;33m,\u001B[0m \u001B[1;36m1\u001B[0m\u001B[1;33m]\u001B[0m\u001B[1;33m)\u001B[0m\u001B[1;33m.\u001B[0m\u001B[0mvalues\u001B[0m\u001B[1;33m\u001B[0m\u001B[1;33m\u001B[0m\u001B[0m\n\u001B[0;32m      3\u001B[0m \u001B[0mnorm\u001B[0m \u001B[1;33m=\u001B[0m \u001B[0mmpl\u001B[0m\u001B[1;33m.\u001B[0m\u001B[0mcolors\u001B[0m\u001B[1;33m.\u001B[0m\u001B[0mBoundaryNorm\u001B[0m\u001B[1;33m(\u001B[0m\u001B[0mbounds\u001B[0m\u001B[1;33m,\u001B[0m \u001B[0mcmap\u001B[0m\u001B[1;33m.\u001B[0m\u001B[0mN\u001B[0m\u001B[1;33m)\u001B[0m\u001B[1;33m\u001B[0m\u001B[1;33m\u001B[0m\u001B[0m\n\u001B[0;32m      4\u001B[0m \u001B[1;33m\u001B[0m\u001B[0m\n\u001B[0;32m      5\u001B[0m \u001B[0mfig\u001B[0m\u001B[1;33m,\u001B[0m \u001B[0max\u001B[0m \u001B[1;33m=\u001B[0m \u001B[0mplt\u001B[0m\u001B[1;33m.\u001B[0m\u001B[0msubplots\u001B[0m\u001B[1;33m(\u001B[0m\u001B[0mfigsize\u001B[0m\u001B[1;33m=\u001B[0m\u001B[1;33m(\u001B[0m\u001B[1;36m10\u001B[0m\u001B[1;33m,\u001B[0m \u001B[1;36m10\u001B[0m\u001B[1;33m)\u001B[0m\u001B[1;33m)\u001B[0m\u001B[1;33m\u001B[0m\u001B[1;33m\u001B[0m\u001B[0m\n",
      "\u001B[1;31mNameError\u001B[0m: name 'cm' is not defined"
     ]
    }
   ],
   "execution_count": 2,
   "metadata": {
    "collapsed": false,
    "outputHidden": false,
    "inputHidden": false
   }
  },
  {
   "cell_type": "markdown",
   "source": [
    "## 2. The usual way of retrieving data"
   ],
   "metadata": {}
  },
  {
   "cell_type": "markdown",
   "source": [
    "Usually there are three steps to follow:\n",
    "- select indexed files based on\n",
    "    - its station_id\n",
    "        - \"1048\" for Dresden, Germany\n",
    "    - its parameter\n",
    "        - \"kl\" for climate\n",
    "    - its time_resolution\n",
    "        - \"daily\" for daily data\n",
    "    - its period_type\n",
    "        - \"historical\" for data up to the end of the last year\n",
    "- download the resulting list of files\n",
    "- parse it into pandas.DataFrames\n",
    "\n",
    "We have summarized those steps into one:\n",
    "- collect_dwd_data\n",
    "\n",
    "Let's try it out for the above selection:"
   ],
   "metadata": {}
  },
  {
   "cell_type": "code",
   "source": [
    "print(\"Receiving historical daily climate data for Dresden-Klotzsche (1048)\")\n",
    "station_data = collect_dwd_data(\n",
    "    [1048],\n",
    "    Parameter.CLIMATE_SUMMARY,\n",
    "    TimeResolution.DAILY,\n",
    "    PeriodType.HISTORICAL\n",
    ")\n",
    "\n",
    "station_data"
   ],
   "outputs": [
    {
     "name": "stdout",
     "output_type": "stream",
     "text": [
      "Receiving historical daily climate data for Dresden-Klotzsche (1048)\n"
     ]
    },
    {
     "data": {
      "text/plain": "       STATION_ID       DATE  QN_3    FX   FM  QN_4   RSK  RSKF    SDK  \\\n0            1048 1934-01-01   NaN   NaN  NaN   1.0   0.2   8.0    NaN   \n1            1048 1934-01-02   NaN   NaN  NaN   1.0   0.1   7.0    NaN   \n2            1048 1934-01-03   NaN   NaN  NaN   1.0   0.0   0.0    NaN   \n3            1048 1934-01-04   NaN   NaN  NaN   1.0   0.0   1.0    NaN   \n4            1048 1934-01-05   NaN   NaN  NaN   1.0  10.1   8.0    NaN   \n...           ...        ...   ...   ...  ...   ...   ...   ...    ...   \n25987        1048 2019-12-27   3.0   8.2  2.9   3.0   0.1   8.0  0.000   \n25988        1048 2019-12-28   3.0   7.7  3.1   3.0   0.4   7.0  0.000   \n25989        1048 2019-12-29   3.0   7.7  2.2   3.0   0.0   0.0  6.233   \n25990        1048 2019-12-30   3.0   8.7  4.6   3.0   0.0   0.0  1.483   \n25991        1048 2019-12-31   3.0  12.3  5.4   3.0   0.0   6.0  1.133   \n\n       SHK_TAG   NM  VPM       PM  TMK    UPM  TXK  TNK  TGK  \n0          0.0  8.0  6.4  1008.60  0.5  97.00  0.7  0.2  NaN  \n1          0.0  8.0  5.9  1006.20 -0.1  90.00  0.9 -0.8  NaN  \n2          0.0  8.0  5.2  1001.60 -0.7  85.00 -0.1 -1.0  NaN  \n3          0.0  8.0  4.8  1001.40 -1.6  82.00 -0.3 -3.5  NaN  \n4          0.0  5.3  6.3   996.00  0.9  92.00  2.8 -3.8  NaN  \n...        ...  ...  ...      ...  ...    ...  ...  ...  ...  \n25987      0.0  7.7  6.2   999.98  2.5  84.46  3.6  1.3  0.9  \n25988      0.0  7.4  5.2  1011.49  0.4  82.54  1.3 -0.7 -1.0  \n25989      0.0  4.6  4.2  1010.52 -0.5  71.75  2.2 -3.1 -5.4  \n25990      0.0  5.5  4.4  1002.62  2.5  61.08  7.6 -1.0 -2.0  \n25991      0.0  5.6  5.6  1000.98  5.4  63.88  8.2  3.5  2.1  \n\n[25992 rows x 18 columns]",
      "text/html": "<div>\n<style scoped>\n    .dataframe tbody tr th:only-of-type {\n        vertical-align: middle;\n    }\n\n    .dataframe tbody tr th {\n        vertical-align: top;\n    }\n\n    .dataframe thead th {\n        text-align: right;\n    }\n</style>\n<table border=\"1\" class=\"dataframe\">\n  <thead>\n    <tr style=\"text-align: right;\">\n      <th></th>\n      <th>STATION_ID</th>\n      <th>DATE</th>\n      <th>QN_3</th>\n      <th>FX</th>\n      <th>FM</th>\n      <th>QN_4</th>\n      <th>RSK</th>\n      <th>RSKF</th>\n      <th>SDK</th>\n      <th>SHK_TAG</th>\n      <th>NM</th>\n      <th>VPM</th>\n      <th>PM</th>\n      <th>TMK</th>\n      <th>UPM</th>\n      <th>TXK</th>\n      <th>TNK</th>\n      <th>TGK</th>\n    </tr>\n  </thead>\n  <tbody>\n    <tr>\n      <th>0</th>\n      <td>1048</td>\n      <td>1934-01-01</td>\n      <td>NaN</td>\n      <td>NaN</td>\n      <td>NaN</td>\n      <td>1.0</td>\n      <td>0.2</td>\n      <td>8.0</td>\n      <td>NaN</td>\n      <td>0.0</td>\n      <td>8.0</td>\n      <td>6.4</td>\n      <td>1008.60</td>\n      <td>0.5</td>\n      <td>97.00</td>\n      <td>0.7</td>\n      <td>0.2</td>\n      <td>NaN</td>\n    </tr>\n    <tr>\n      <th>1</th>\n      <td>1048</td>\n      <td>1934-01-02</td>\n      <td>NaN</td>\n      <td>NaN</td>\n      <td>NaN</td>\n      <td>1.0</td>\n      <td>0.1</td>\n      <td>7.0</td>\n      <td>NaN</td>\n      <td>0.0</td>\n      <td>8.0</td>\n      <td>5.9</td>\n      <td>1006.20</td>\n      <td>-0.1</td>\n      <td>90.00</td>\n      <td>0.9</td>\n      <td>-0.8</td>\n      <td>NaN</td>\n    </tr>\n    <tr>\n      <th>2</th>\n      <td>1048</td>\n      <td>1934-01-03</td>\n      <td>NaN</td>\n      <td>NaN</td>\n      <td>NaN</td>\n      <td>1.0</td>\n      <td>0.0</td>\n      <td>0.0</td>\n      <td>NaN</td>\n      <td>0.0</td>\n      <td>8.0</td>\n      <td>5.2</td>\n      <td>1001.60</td>\n      <td>-0.7</td>\n      <td>85.00</td>\n      <td>-0.1</td>\n      <td>-1.0</td>\n      <td>NaN</td>\n    </tr>\n    <tr>\n      <th>3</th>\n      <td>1048</td>\n      <td>1934-01-04</td>\n      <td>NaN</td>\n      <td>NaN</td>\n      <td>NaN</td>\n      <td>1.0</td>\n      <td>0.0</td>\n      <td>1.0</td>\n      <td>NaN</td>\n      <td>0.0</td>\n      <td>8.0</td>\n      <td>4.8</td>\n      <td>1001.40</td>\n      <td>-1.6</td>\n      <td>82.00</td>\n      <td>-0.3</td>\n      <td>-3.5</td>\n      <td>NaN</td>\n    </tr>\n    <tr>\n      <th>4</th>\n      <td>1048</td>\n      <td>1934-01-05</td>\n      <td>NaN</td>\n      <td>NaN</td>\n      <td>NaN</td>\n      <td>1.0</td>\n      <td>10.1</td>\n      <td>8.0</td>\n      <td>NaN</td>\n      <td>0.0</td>\n      <td>5.3</td>\n      <td>6.3</td>\n      <td>996.00</td>\n      <td>0.9</td>\n      <td>92.00</td>\n      <td>2.8</td>\n      <td>-3.8</td>\n      <td>NaN</td>\n    </tr>\n    <tr>\n      <th>...</th>\n      <td>...</td>\n      <td>...</td>\n      <td>...</td>\n      <td>...</td>\n      <td>...</td>\n      <td>...</td>\n      <td>...</td>\n      <td>...</td>\n      <td>...</td>\n      <td>...</td>\n      <td>...</td>\n      <td>...</td>\n      <td>...</td>\n      <td>...</td>\n      <td>...</td>\n      <td>...</td>\n      <td>...</td>\n      <td>...</td>\n    </tr>\n    <tr>\n      <th>25987</th>\n      <td>1048</td>\n      <td>2019-12-27</td>\n      <td>3.0</td>\n      <td>8.2</td>\n      <td>2.9</td>\n      <td>3.0</td>\n      <td>0.1</td>\n      <td>8.0</td>\n      <td>0.000</td>\n      <td>0.0</td>\n      <td>7.7</td>\n      <td>6.2</td>\n      <td>999.98</td>\n      <td>2.5</td>\n      <td>84.46</td>\n      <td>3.6</td>\n      <td>1.3</td>\n      <td>0.9</td>\n    </tr>\n    <tr>\n      <th>25988</th>\n      <td>1048</td>\n      <td>2019-12-28</td>\n      <td>3.0</td>\n      <td>7.7</td>\n      <td>3.1</td>\n      <td>3.0</td>\n      <td>0.4</td>\n      <td>7.0</td>\n      <td>0.000</td>\n      <td>0.0</td>\n      <td>7.4</td>\n      <td>5.2</td>\n      <td>1011.49</td>\n      <td>0.4</td>\n      <td>82.54</td>\n      <td>1.3</td>\n      <td>-0.7</td>\n      <td>-1.0</td>\n    </tr>\n    <tr>\n      <th>25989</th>\n      <td>1048</td>\n      <td>2019-12-29</td>\n      <td>3.0</td>\n      <td>7.7</td>\n      <td>2.2</td>\n      <td>3.0</td>\n      <td>0.0</td>\n      <td>0.0</td>\n      <td>6.233</td>\n      <td>0.0</td>\n      <td>4.6</td>\n      <td>4.2</td>\n      <td>1010.52</td>\n      <td>-0.5</td>\n      <td>71.75</td>\n      <td>2.2</td>\n      <td>-3.1</td>\n      <td>-5.4</td>\n    </tr>\n    <tr>\n      <th>25990</th>\n      <td>1048</td>\n      <td>2019-12-30</td>\n      <td>3.0</td>\n      <td>8.7</td>\n      <td>4.6</td>\n      <td>3.0</td>\n      <td>0.0</td>\n      <td>0.0</td>\n      <td>1.483</td>\n      <td>0.0</td>\n      <td>5.5</td>\n      <td>4.4</td>\n      <td>1002.62</td>\n      <td>2.5</td>\n      <td>61.08</td>\n      <td>7.6</td>\n      <td>-1.0</td>\n      <td>-2.0</td>\n    </tr>\n    <tr>\n      <th>25991</th>\n      <td>1048</td>\n      <td>2019-12-31</td>\n      <td>3.0</td>\n      <td>12.3</td>\n      <td>5.4</td>\n      <td>3.0</td>\n      <td>0.0</td>\n      <td>6.0</td>\n      <td>1.133</td>\n      <td>0.0</td>\n      <td>5.6</td>\n      <td>5.6</td>\n      <td>1000.98</td>\n      <td>5.4</td>\n      <td>63.88</td>\n      <td>8.2</td>\n      <td>3.5</td>\n      <td>2.1</td>\n    </tr>\n  </tbody>\n</table>\n<p>25992 rows × 18 columns</p>\n</div>"
     },
     "execution_count": 4,
     "metadata": {},
     "output_type": "execute_result"
    }
   ],
   "execution_count": 4,
   "metadata": {
    "collapsed": false,
    "outputHidden": false,
    "inputHidden": false
   }
  },
  {
   "cell_type": "markdown",
   "source": [
    "See that DATE is already parsed, so we can easily get some nice graphs with matplotlib,\n",
    "which we will do in the next part."
   ],
   "metadata": {}
  },
  {
   "cell_type": "markdown",
   "source": [
    "## 3. Let's create some plots"
   ],
   "metadata": {}
  },
  {
   "cell_type": "markdown",
   "source": [
    "First to handle the data easier, we want it to be transformed from tabular to column data,\n",
    "which means instead of having the data in several columns with an additional date column,\n",
    "we want columns, where a set of all columns defines the date of measured data, element\n",
    "and the exact value. We will therefor use the tidy_data option."
   ],
   "metadata": {}
  },
  {
   "cell_type": "code",
   "source": [
    "print(\"Receiving historical daily climate data for Dresden-Klotzsche (1048), this time tidied.\")\n",
    "station_data = collect_dwd_data(\n",
    "    [1048],\n",
    "    Parameter.CLIMATE_SUMMARY,\n",
    "    TimeResolution.DAILY,\n",
    "    PeriodType.HISTORICAL,\n",
    "    tidy_data=True\n",
    ")\n",
    "\n",
    "station_data.head()"
   ],
   "outputs": [
    {
     "name": "stdout",
     "output_type": "stream",
     "text": [
      "Receiving historical daily climate data for Dresden-Klotzsche (1048), this time tidied.\n"
     ]
    },
    {
     "ename": "ValueError",
     "evalue": "cannot convert float NaN to integer",
     "output_type": "error",
     "traceback": [
      "\u001B[1;31m---------------------------------------------------------------------------\u001B[0m",
      "\u001B[1;31mValueError\u001B[0m                                Traceback (most recent call last)",
      "\u001B[1;32m<ipython-input-5-ffd559df1de1>\u001B[0m in \u001B[0;36m<module>\u001B[1;34m\u001B[0m\n\u001B[0;32m      1\u001B[0m \u001B[0mprint\u001B[0m\u001B[1;33m(\u001B[0m\u001B[1;34m\"Receiving historical daily climate data for Dresden-Klotzsche (1048), this time tidied.\"\u001B[0m\u001B[1;33m)\u001B[0m\u001B[1;33m\u001B[0m\u001B[1;33m\u001B[0m\u001B[0m\n\u001B[1;32m----> 2\u001B[1;33m station_data = collect_dwd_data(\n\u001B[0m\u001B[0;32m      3\u001B[0m     \u001B[1;33m[\u001B[0m\u001B[1;36m1048\u001B[0m\u001B[1;33m]\u001B[0m\u001B[1;33m,\u001B[0m\u001B[1;33m\u001B[0m\u001B[1;33m\u001B[0m\u001B[0m\n\u001B[0;32m      4\u001B[0m     \u001B[0mParameter\u001B[0m\u001B[1;33m.\u001B[0m\u001B[0mCLIMATE_SUMMARY\u001B[0m\u001B[1;33m,\u001B[0m\u001B[1;33m\u001B[0m\u001B[1;33m\u001B[0m\u001B[0m\n\u001B[0;32m      5\u001B[0m     \u001B[0mTimeResolution\u001B[0m\u001B[1;33m.\u001B[0m\u001B[0mDAILY\u001B[0m\u001B[1;33m,\u001B[0m\u001B[1;33m\u001B[0m\u001B[1;33m\u001B[0m\u001B[0m\n",
      "\u001B[1;32mD:\\Coding\\git\\wetterdienst\\wetterdienst\\data_collection.py\u001B[0m in \u001B[0;36mcollect_dwd_data\u001B[1;34m(station_ids, parameter, time_resolution, period_type, folder, prefer_local, write_file, tidy_data, humanize_column_names, run_download_only, create_new_file_index)\u001B[0m\n\u001B[0;32m    132\u001B[0m         \u001B[0mfilenames_and_files\u001B[0m \u001B[1;33m=\u001B[0m \u001B[0mdownload_dwd_data_parallel\u001B[0m\u001B[1;33m(\u001B[0m\u001B[0mremote_files\u001B[0m\u001B[1;33m)\u001B[0m\u001B[1;33m\u001B[0m\u001B[1;33m\u001B[0m\u001B[0m\n\u001B[0;32m    133\u001B[0m \u001B[1;33m\u001B[0m\u001B[0m\n\u001B[1;32m--> 134\u001B[1;33m         \u001B[0mstation_data\u001B[0m \u001B[1;33m=\u001B[0m \u001B[0mparse_dwd_data\u001B[0m\u001B[1;33m(\u001B[0m\u001B[0mfilenames_and_files\u001B[0m\u001B[1;33m,\u001B[0m \u001B[0mparameter\u001B[0m\u001B[1;33m,\u001B[0m \u001B[0mtime_resolution\u001B[0m\u001B[1;33m)\u001B[0m\u001B[1;33m\u001B[0m\u001B[1;33m\u001B[0m\u001B[0m\n\u001B[0m\u001B[0;32m    135\u001B[0m \u001B[1;33m\u001B[0m\u001B[0m\n\u001B[0;32m    136\u001B[0m         \u001B[1;32mif\u001B[0m \u001B[0mwrite_file\u001B[0m\u001B[1;33m:\u001B[0m\u001B[1;33m\u001B[0m\u001B[1;33m\u001B[0m\u001B[0m\n",
      "\u001B[1;32mD:\\Coding\\git\\wetterdienst\\wetterdienst\\parsing_data\\parse_data_from_files.py\u001B[0m in \u001B[0;36mparse_dwd_data\u001B[1;34m(filenames_and_files, parameter, time_resolution)\u001B[0m\n\u001B[0;32m     40\u001B[0m     \u001B[0mtime_resolution\u001B[0m \u001B[1;33m=\u001B[0m \u001B[0mTimeResolution\u001B[0m\u001B[1;33m(\u001B[0m\u001B[0mtime_resolution\u001B[0m\u001B[1;33m)\u001B[0m\u001B[1;33m\u001B[0m\u001B[1;33m\u001B[0m\u001B[0m\n\u001B[0;32m     41\u001B[0m \u001B[1;33m\u001B[0m\u001B[0m\n\u001B[1;32m---> 42\u001B[1;33m     data = [\n\u001B[0m\u001B[0;32m     43\u001B[0m         \u001B[0m_parse_dwd_data\u001B[0m\u001B[1;33m(\u001B[0m\u001B[0mfilename_and_file\u001B[0m\u001B[1;33m,\u001B[0m \u001B[0mparameter\u001B[0m\u001B[1;33m,\u001B[0m \u001B[0mtime_resolution\u001B[0m\u001B[1;33m)\u001B[0m\u001B[1;33m\u001B[0m\u001B[1;33m\u001B[0m\u001B[0m\n\u001B[0;32m     44\u001B[0m         \u001B[1;32mfor\u001B[0m \u001B[0mfilename_and_file\u001B[0m \u001B[1;32min\u001B[0m \u001B[0mfilenames_and_files\u001B[0m\u001B[1;33m\u001B[0m\u001B[1;33m\u001B[0m\u001B[0m\n",
      "\u001B[1;32mD:\\Coding\\git\\wetterdienst\\wetterdienst\\parsing_data\\parse_data_from_files.py\u001B[0m in \u001B[0;36m<listcomp>\u001B[1;34m(.0)\u001B[0m\n\u001B[0;32m     41\u001B[0m \u001B[1;33m\u001B[0m\u001B[0m\n\u001B[0;32m     42\u001B[0m     data = [\n\u001B[1;32m---> 43\u001B[1;33m         \u001B[0m_parse_dwd_data\u001B[0m\u001B[1;33m(\u001B[0m\u001B[0mfilename_and_file\u001B[0m\u001B[1;33m,\u001B[0m \u001B[0mparameter\u001B[0m\u001B[1;33m,\u001B[0m \u001B[0mtime_resolution\u001B[0m\u001B[1;33m)\u001B[0m\u001B[1;33m\u001B[0m\u001B[1;33m\u001B[0m\u001B[0m\n\u001B[0m\u001B[0;32m     44\u001B[0m         \u001B[1;32mfor\u001B[0m \u001B[0mfilename_and_file\u001B[0m \u001B[1;32min\u001B[0m \u001B[0mfilenames_and_files\u001B[0m\u001B[1;33m\u001B[0m\u001B[1;33m\u001B[0m\u001B[0m\n\u001B[0;32m     45\u001B[0m     ]\n",
      "\u001B[1;32mD:\\Coding\\git\\wetterdienst\\wetterdienst\\parsing_data\\parse_data_from_files.py\u001B[0m in \u001B[0;36m_parse_dwd_data\u001B[1;34m(filename_and_file, parameter, time_resolution)\u001B[0m\n\u001B[0;32m    120\u001B[0m \u001B[1;33m\u001B[0m\u001B[0m\n\u001B[0;32m    121\u001B[0m     \u001B[1;31m# Coerce the data types appropriately.\u001B[0m\u001B[1;33m\u001B[0m\u001B[1;33m\u001B[0m\u001B[1;33m\u001B[0m\u001B[0m\n\u001B[1;32m--> 122\u001B[1;33m     \u001B[0mdata\u001B[0m \u001B[1;33m=\u001B[0m \u001B[0mcoerce_field_types\u001B[0m\u001B[1;33m(\u001B[0m\u001B[0mdata\u001B[0m\u001B[1;33m,\u001B[0m \u001B[0mtime_resolution\u001B[0m\u001B[1;33m)\u001B[0m\u001B[1;33m\u001B[0m\u001B[1;33m\u001B[0m\u001B[0m\n\u001B[0m\u001B[0;32m    123\u001B[0m \u001B[1;33m\u001B[0m\u001B[0m\n\u001B[0;32m    124\u001B[0m     \u001B[1;32mreturn\u001B[0m \u001B[0mdata\u001B[0m\u001B[1;33m\u001B[0m\u001B[1;33m\u001B[0m\u001B[0m\n",
      "\u001B[1;32mD:\\Coding\\git\\wetterdienst\\wetterdienst\\additionals\\functions.py\u001B[0m in \u001B[0;36mcoerce_field_types\u001B[1;34m(df, time_resolution)\u001B[0m\n\u001B[0;32m    439\u001B[0m             )\n\u001B[0;32m    440\u001B[0m         \u001B[1;32melif\u001B[0m \u001B[0mcolumn\u001B[0m \u001B[1;32min\u001B[0m \u001B[0mQUALITY_FIELDS\u001B[0m \u001B[1;32mor\u001B[0m \u001B[0mcolumn\u001B[0m \u001B[1;32min\u001B[0m \u001B[0mINTEGER_FIELDS\u001B[0m\u001B[1;33m:\u001B[0m\u001B[1;33m\u001B[0m\u001B[1;33m\u001B[0m\u001B[0m\n\u001B[1;32m--> 441\u001B[1;33m             \u001B[0mdf\u001B[0m\u001B[1;33m[\u001B[0m\u001B[0mcolumn\u001B[0m\u001B[1;33m]\u001B[0m \u001B[1;33m=\u001B[0m \u001B[0mdf\u001B[0m\u001B[1;33m[\u001B[0m\u001B[0mcolumn\u001B[0m\u001B[1;33m]\u001B[0m\u001B[1;33m.\u001B[0m\u001B[0mastype\u001B[0m\u001B[1;33m(\u001B[0m\u001B[0mint\u001B[0m\u001B[1;33m)\u001B[0m\u001B[1;33m\u001B[0m\u001B[1;33m\u001B[0m\u001B[0m\n\u001B[0m\u001B[0;32m    442\u001B[0m         \u001B[1;32melif\u001B[0m \u001B[0mcolumn\u001B[0m \u001B[1;32min\u001B[0m \u001B[0mSTRING_FIELDS\u001B[0m\u001B[1;33m:\u001B[0m\u001B[1;33m\u001B[0m\u001B[1;33m\u001B[0m\u001B[0m\n\u001B[0;32m    443\u001B[0m             \u001B[0mdf\u001B[0m\u001B[1;33m[\u001B[0m\u001B[0mcolumn\u001B[0m\u001B[1;33m]\u001B[0m \u001B[1;33m=\u001B[0m \u001B[0mdf\u001B[0m\u001B[1;33m[\u001B[0m\u001B[0mcolumn\u001B[0m\u001B[1;33m]\u001B[0m\u001B[1;33m.\u001B[0m\u001B[0mastype\u001B[0m\u001B[1;33m(\u001B[0m\u001B[0mstr\u001B[0m\u001B[1;33m)\u001B[0m\u001B[1;33m\u001B[0m\u001B[1;33m\u001B[0m\u001B[0m\n",
      "\u001B[1;32m~\\anaconda3\\envs\\dev_wetterdienst\\lib\\site-packages\\pandas\\core\\generic.py\u001B[0m in \u001B[0;36mastype\u001B[1;34m(self, dtype, copy, errors)\u001B[0m\n\u001B[0;32m   5696\u001B[0m         \u001B[1;32melse\u001B[0m\u001B[1;33m:\u001B[0m\u001B[1;33m\u001B[0m\u001B[1;33m\u001B[0m\u001B[0m\n\u001B[0;32m   5697\u001B[0m             \u001B[1;31m# else, only a single dtype is given\u001B[0m\u001B[1;33m\u001B[0m\u001B[1;33m\u001B[0m\u001B[1;33m\u001B[0m\u001B[0m\n\u001B[1;32m-> 5698\u001B[1;33m             \u001B[0mnew_data\u001B[0m \u001B[1;33m=\u001B[0m \u001B[0mself\u001B[0m\u001B[1;33m.\u001B[0m\u001B[0m_data\u001B[0m\u001B[1;33m.\u001B[0m\u001B[0mastype\u001B[0m\u001B[1;33m(\u001B[0m\u001B[0mdtype\u001B[0m\u001B[1;33m=\u001B[0m\u001B[0mdtype\u001B[0m\u001B[1;33m,\u001B[0m \u001B[0mcopy\u001B[0m\u001B[1;33m=\u001B[0m\u001B[0mcopy\u001B[0m\u001B[1;33m,\u001B[0m \u001B[0merrors\u001B[0m\u001B[1;33m=\u001B[0m\u001B[0merrors\u001B[0m\u001B[1;33m)\u001B[0m\u001B[1;33m\u001B[0m\u001B[1;33m\u001B[0m\u001B[0m\n\u001B[0m\u001B[0;32m   5699\u001B[0m             \u001B[1;32mreturn\u001B[0m \u001B[0mself\u001B[0m\u001B[1;33m.\u001B[0m\u001B[0m_constructor\u001B[0m\u001B[1;33m(\u001B[0m\u001B[0mnew_data\u001B[0m\u001B[1;33m)\u001B[0m\u001B[1;33m.\u001B[0m\u001B[0m__finalize__\u001B[0m\u001B[1;33m(\u001B[0m\u001B[0mself\u001B[0m\u001B[1;33m)\u001B[0m\u001B[1;33m\u001B[0m\u001B[1;33m\u001B[0m\u001B[0m\n\u001B[0;32m   5700\u001B[0m \u001B[1;33m\u001B[0m\u001B[0m\n",
      "\u001B[1;32m~\\anaconda3\\envs\\dev_wetterdienst\\lib\\site-packages\\pandas\\core\\internals\\managers.py\u001B[0m in \u001B[0;36mastype\u001B[1;34m(self, dtype, copy, errors)\u001B[0m\n\u001B[0;32m    580\u001B[0m \u001B[1;33m\u001B[0m\u001B[0m\n\u001B[0;32m    581\u001B[0m     \u001B[1;32mdef\u001B[0m \u001B[0mastype\u001B[0m\u001B[1;33m(\u001B[0m\u001B[0mself\u001B[0m\u001B[1;33m,\u001B[0m \u001B[0mdtype\u001B[0m\u001B[1;33m,\u001B[0m \u001B[0mcopy\u001B[0m\u001B[1;33m:\u001B[0m \u001B[0mbool\u001B[0m \u001B[1;33m=\u001B[0m \u001B[1;32mFalse\u001B[0m\u001B[1;33m,\u001B[0m \u001B[0merrors\u001B[0m\u001B[1;33m:\u001B[0m \u001B[0mstr\u001B[0m \u001B[1;33m=\u001B[0m \u001B[1;34m\"raise\"\u001B[0m\u001B[1;33m)\u001B[0m\u001B[1;33m:\u001B[0m\u001B[1;33m\u001B[0m\u001B[1;33m\u001B[0m\u001B[0m\n\u001B[1;32m--> 582\u001B[1;33m         \u001B[1;32mreturn\u001B[0m \u001B[0mself\u001B[0m\u001B[1;33m.\u001B[0m\u001B[0mapply\u001B[0m\u001B[1;33m(\u001B[0m\u001B[1;34m\"astype\"\u001B[0m\u001B[1;33m,\u001B[0m \u001B[0mdtype\u001B[0m\u001B[1;33m=\u001B[0m\u001B[0mdtype\u001B[0m\u001B[1;33m,\u001B[0m \u001B[0mcopy\u001B[0m\u001B[1;33m=\u001B[0m\u001B[0mcopy\u001B[0m\u001B[1;33m,\u001B[0m \u001B[0merrors\u001B[0m\u001B[1;33m=\u001B[0m\u001B[0merrors\u001B[0m\u001B[1;33m)\u001B[0m\u001B[1;33m\u001B[0m\u001B[1;33m\u001B[0m\u001B[0m\n\u001B[0m\u001B[0;32m    583\u001B[0m \u001B[1;33m\u001B[0m\u001B[0m\n\u001B[0;32m    584\u001B[0m     \u001B[1;32mdef\u001B[0m \u001B[0mconvert\u001B[0m\u001B[1;33m(\u001B[0m\u001B[0mself\u001B[0m\u001B[1;33m,\u001B[0m \u001B[1;33m**\u001B[0m\u001B[0mkwargs\u001B[0m\u001B[1;33m)\u001B[0m\u001B[1;33m:\u001B[0m\u001B[1;33m\u001B[0m\u001B[1;33m\u001B[0m\u001B[0m\n",
      "\u001B[1;32m~\\anaconda3\\envs\\dev_wetterdienst\\lib\\site-packages\\pandas\\core\\internals\\managers.py\u001B[0m in \u001B[0;36mapply\u001B[1;34m(self, f, filter, **kwargs)\u001B[0m\n\u001B[0;32m    440\u001B[0m                 \u001B[0mapplied\u001B[0m \u001B[1;33m=\u001B[0m \u001B[0mb\u001B[0m\u001B[1;33m.\u001B[0m\u001B[0mapply\u001B[0m\u001B[1;33m(\u001B[0m\u001B[0mf\u001B[0m\u001B[1;33m,\u001B[0m \u001B[1;33m**\u001B[0m\u001B[0mkwargs\u001B[0m\u001B[1;33m)\u001B[0m\u001B[1;33m\u001B[0m\u001B[1;33m\u001B[0m\u001B[0m\n\u001B[0;32m    441\u001B[0m             \u001B[1;32melse\u001B[0m\u001B[1;33m:\u001B[0m\u001B[1;33m\u001B[0m\u001B[1;33m\u001B[0m\u001B[0m\n\u001B[1;32m--> 442\u001B[1;33m                 \u001B[0mapplied\u001B[0m \u001B[1;33m=\u001B[0m \u001B[0mgetattr\u001B[0m\u001B[1;33m(\u001B[0m\u001B[0mb\u001B[0m\u001B[1;33m,\u001B[0m \u001B[0mf\u001B[0m\u001B[1;33m)\u001B[0m\u001B[1;33m(\u001B[0m\u001B[1;33m**\u001B[0m\u001B[0mkwargs\u001B[0m\u001B[1;33m)\u001B[0m\u001B[1;33m\u001B[0m\u001B[1;33m\u001B[0m\u001B[0m\n\u001B[0m\u001B[0;32m    443\u001B[0m             \u001B[0mresult_blocks\u001B[0m \u001B[1;33m=\u001B[0m \u001B[0m_extend_blocks\u001B[0m\u001B[1;33m(\u001B[0m\u001B[0mapplied\u001B[0m\u001B[1;33m,\u001B[0m \u001B[0mresult_blocks\u001B[0m\u001B[1;33m)\u001B[0m\u001B[1;33m\u001B[0m\u001B[1;33m\u001B[0m\u001B[0m\n\u001B[0;32m    444\u001B[0m \u001B[1;33m\u001B[0m\u001B[0m\n",
      "\u001B[1;32m~\\anaconda3\\envs\\dev_wetterdienst\\lib\\site-packages\\pandas\\core\\internals\\blocks.py\u001B[0m in \u001B[0;36mastype\u001B[1;34m(self, dtype, copy, errors)\u001B[0m\n\u001B[0;32m    623\u001B[0m             \u001B[0mvals1d\u001B[0m \u001B[1;33m=\u001B[0m \u001B[0mvalues\u001B[0m\u001B[1;33m.\u001B[0m\u001B[0mravel\u001B[0m\u001B[1;33m(\u001B[0m\u001B[1;33m)\u001B[0m\u001B[1;33m\u001B[0m\u001B[1;33m\u001B[0m\u001B[0m\n\u001B[0;32m    624\u001B[0m             \u001B[1;32mtry\u001B[0m\u001B[1;33m:\u001B[0m\u001B[1;33m\u001B[0m\u001B[1;33m\u001B[0m\u001B[0m\n\u001B[1;32m--> 625\u001B[1;33m                 \u001B[0mvalues\u001B[0m \u001B[1;33m=\u001B[0m \u001B[0mastype_nansafe\u001B[0m\u001B[1;33m(\u001B[0m\u001B[0mvals1d\u001B[0m\u001B[1;33m,\u001B[0m \u001B[0mdtype\u001B[0m\u001B[1;33m,\u001B[0m \u001B[0mcopy\u001B[0m\u001B[1;33m=\u001B[0m\u001B[1;32mTrue\u001B[0m\u001B[1;33m)\u001B[0m\u001B[1;33m\u001B[0m\u001B[1;33m\u001B[0m\u001B[0m\n\u001B[0m\u001B[0;32m    626\u001B[0m             \u001B[1;32mexcept\u001B[0m \u001B[1;33m(\u001B[0m\u001B[0mValueError\u001B[0m\u001B[1;33m,\u001B[0m \u001B[0mTypeError\u001B[0m\u001B[1;33m)\u001B[0m\u001B[1;33m:\u001B[0m\u001B[1;33m\u001B[0m\u001B[1;33m\u001B[0m\u001B[0m\n\u001B[0;32m    627\u001B[0m                 \u001B[1;31m# e.g. astype_nansafe can fail on object-dtype of strings\u001B[0m\u001B[1;33m\u001B[0m\u001B[1;33m\u001B[0m\u001B[1;33m\u001B[0m\u001B[0m\n",
      "\u001B[1;32m~\\anaconda3\\envs\\dev_wetterdienst\\lib\\site-packages\\pandas\\core\\dtypes\\cast.py\u001B[0m in \u001B[0;36mastype_nansafe\u001B[1;34m(arr, dtype, copy, skipna)\u001B[0m\n\u001B[0;32m    872\u001B[0m         \u001B[1;31m# work around NumPy brokenness, #1987\u001B[0m\u001B[1;33m\u001B[0m\u001B[1;33m\u001B[0m\u001B[1;33m\u001B[0m\u001B[0m\n\u001B[0;32m    873\u001B[0m         \u001B[1;32mif\u001B[0m \u001B[0mnp\u001B[0m\u001B[1;33m.\u001B[0m\u001B[0missubdtype\u001B[0m\u001B[1;33m(\u001B[0m\u001B[0mdtype\u001B[0m\u001B[1;33m.\u001B[0m\u001B[0mtype\u001B[0m\u001B[1;33m,\u001B[0m \u001B[0mnp\u001B[0m\u001B[1;33m.\u001B[0m\u001B[0minteger\u001B[0m\u001B[1;33m)\u001B[0m\u001B[1;33m:\u001B[0m\u001B[1;33m\u001B[0m\u001B[1;33m\u001B[0m\u001B[0m\n\u001B[1;32m--> 874\u001B[1;33m             \u001B[1;32mreturn\u001B[0m \u001B[0mlib\u001B[0m\u001B[1;33m.\u001B[0m\u001B[0mastype_intsafe\u001B[0m\u001B[1;33m(\u001B[0m\u001B[0marr\u001B[0m\u001B[1;33m.\u001B[0m\u001B[0mravel\u001B[0m\u001B[1;33m(\u001B[0m\u001B[1;33m)\u001B[0m\u001B[1;33m,\u001B[0m \u001B[0mdtype\u001B[0m\u001B[1;33m)\u001B[0m\u001B[1;33m.\u001B[0m\u001B[0mreshape\u001B[0m\u001B[1;33m(\u001B[0m\u001B[0marr\u001B[0m\u001B[1;33m.\u001B[0m\u001B[0mshape\u001B[0m\u001B[1;33m)\u001B[0m\u001B[1;33m\u001B[0m\u001B[1;33m\u001B[0m\u001B[0m\n\u001B[0m\u001B[0;32m    875\u001B[0m \u001B[1;33m\u001B[0m\u001B[0m\n\u001B[0;32m    876\u001B[0m         \u001B[1;31m# if we have a datetime/timedelta array of objects\u001B[0m\u001B[1;33m\u001B[0m\u001B[1;33m\u001B[0m\u001B[1;33m\u001B[0m\u001B[0m\n",
      "\u001B[1;32mpandas\\_libs\\lib.pyx\u001B[0m in \u001B[0;36mpandas._libs.lib.astype_intsafe\u001B[1;34m()\u001B[0m\n",
      "\u001B[1;31mValueError\u001B[0m: cannot convert float NaN to integer"
     ]
    }
   ],
   "execution_count": 5,
   "metadata": {
    "collapsed": false,
    "outputHidden": false,
    "inputHidden": false
   }
  },
  {
   "cell_type": "markdown",
   "source": [
    "We can create a time series/histogram of some elements to compare the distribution of\n",
    "the values, here for example precipitation and mean temperature:"
   ],
   "metadata": {}
  },
  {
   "cell_type": "code",
   "source": [
    "elements_to_plot = [\"RSK\", \"TMK\"]\n",
    "station_data_filtered = station_data_transformed.loc[\n",
    "    station_data_transformed[\"ELEMENT\"].isin(elements_to_plot)].\\\n",
    "    sort_values([\"STATION_ID\", \"ELEMENT\", \"DATE\"])\n",
    "\n",
    "station_data_grouped = station_data_filtered.groupby(\"ELEMENT\")[\"DATE\", \"VALUE\"]"
   ],
   "outputs": [
    {
     "name": "stderr",
     "output_type": "stream",
     "text": [
      "C:\\Users\\benjamin\\anaconda3\\envs\\dev_python_dwd\\lib\\site-packages\\ipykernel_launcher.py:6: FutureWarning: Indexing with multiple keys (implicitly converted to a tuple of keys) will be deprecated, use a list instead.\n",
      "  \n"
     ]
    }
   ],
   "execution_count": 6,
   "metadata": {
    "collapsed": false,
    "outputHidden": false,
    "inputHidden": false
   }
  },
  {
   "cell_type": "code",
   "source": [
    "cmap = plt.get_cmap('viridis')\n",
    "colors = cmap(np.linspace(0, 1, 2))\n",
    "\n",
    "fig, axes = plt.subplots(len(elements_to_plot), len(elements_to_plot), figsize=(10, 10))\n",
    "\n",
    "for (k, v), (ax1, ax2), color in zip(station_data_grouped, axes.T, colors):\n",
    "    v.plot(x=\"DATE\", y=\"VALUE\", label=k, alpha=.75, ax=ax1, c=color)\n",
    "    v.plot(y=\"VALUE\", kind=\"hist\", label=k, alpha=.75, ax=ax2)\n",
    "    \n",
    "plt.tight_layout()\n",
    "plt.subplots_adjust(top=0.9)\n",
    "plt.suptitle(\"Precipitation/Mean temperature time series of Dresden, Germany\")\n",
    "\n",
    "plt.show()"
   ],
   "outputs": [
    {
     "data": {
      "text/plain": "<Figure size 720x720 with 4 Axes>",
      "image/png": "[encoded data removed]"
     },
     "metadata": {
      "needs_background": "light"
     },
     "output_type": "display_data"
    }
   ],
   "execution_count": 7,
   "metadata": {
    "collapsed": false,
    "outputHidden": false,
    "inputHidden": false
   }
  },
  {
   "cell_type": "markdown",
   "source": [
    "We can see here that the precipitation is completely left-skewed and not normal distributed, while the temperature is almost normaldistributed! Also the timeseries gives a glimpse on how much data is available! Sad notice here is the gap of WW2."
   ],
   "metadata": {}
  },
  {
   "cell_type": "markdown",
   "source": [
    "## 4. Create yearly values"
   ],
   "metadata": {}
  },
  {
   "cell_type": "code",
   "source": [
    "for parameter, group in station_data_filtered.groupby(\"ELEMENT\")[\"DATE\", \"VALUE\"]:\n",
    "    if parameter == \"RSK\":\n",
    "        print(group.groupby(group[\"DATE\"].dt.year)[\"VALUE\"].sum())\n",
    "    else:\n",
    "        print(group.groupby(group[\"DATE\"].dt.year)[\"VALUE\"].mean())"
   ],
   "outputs": [
    {
     "name": "stdout",
     "output_type": "stream",
     "text": [
      "DATE\n",
      "1934    675.6\n",
      "1935    643.1\n",
      "1936    555.2\n",
      "1937    793.7\n",
      "1938    621.2\n",
      "        ...  \n",
      "2015    629.8\n",
      "2016    721.9\n",
      "2017    612.3\n",
      "2018    421.1\n",
      "2019    503.3\n",
      "Name: VALUE, Length: 72, dtype: float64\n",
      "DATE\n",
      "1934    10.645479\n",
      "1935     9.053425\n",
      "1936     8.801366\n",
      "1937     8.957260\n",
      "1938     9.021096\n",
      "          ...    \n",
      "2015    10.790959\n",
      "2016    10.081148\n",
      "2017    10.109315\n",
      "2018    11.222466\n",
      "2019    11.229041\n",
      "Name: VALUE, Length: 72, dtype: float64\n"
     ]
    },
    {
     "name": "stderr",
     "output_type": "stream",
     "text": [
      "C:\\Users\\benjamin\\anaconda3\\envs\\dev_python_dwd\\lib\\site-packages\\ipykernel_launcher.py:1: FutureWarning: Indexing with multiple keys (implicitly converted to a tuple of keys) will be deprecated, use a list instead.\n",
      "  \"\"\"Entry point for launching an IPython kernel.\n"
     ]
    }
   ],
   "execution_count": 8,
   "metadata": {
    "collapsed": false,
    "outputHidden": false,
    "inputHidden": false
   }
  },
  {
   "cell_type": "markdown",
   "source": [
    "## 5. Find a station\n",
    "\n",
    "We may want to find a station near to a certain area. Therefor simply call get_nearest_station"
   ],
   "metadata": {
    "collapsed": false,
    "pycharm": {
     "name": "#%% md\n"
    }
   }
  },
  {
   "cell_type": "code",
   "execution_count": 9,
   "outputs": [
    {
     "data": {
      "text/plain": "([1047], [1.3268238814030275])"
     },
     "execution_count": 9,
     "metadata": {},
     "output_type": "execute_result"
    }
   ],
   "source": [
    "get_nearby_stations(\n",
    "    [51.05089],\n",
    "    [13.73832],\n",
    "    Parameter.CLIMATE_SUMMARY,\n",
    "    TimeResolution.DAILY,\n",
    "    PeriodType.HISTORICAL\n",
    ")"
   ],
   "metadata": {
    "collapsed": false,
    "pycharm": {
     "name": "#%%\n"
    }
   }
  }
 ],
 "metadata": {
  "kernel_info": {
   "name": "python3"
  },
  "language_info": {
   "name": "python",
   "version": "3.7.3",
   "mimetype": "text/x-python",
   "codemirror_mode": {
    "name": "ipython",
    "version": 3
   },
   "pygments_lexer": "ipython3",
   "nbconvert_exporter": "python",
   "file_extension": ".py"
  },
  "kernelspec": {
   "name": "python3",
   "language": "python",
   "display_name": "Python 3"
  },
  "nteract": {
   "version": "0.15.0"
  }
 },
 "nbformat": 4,
 "nbformat_minor": 4
}